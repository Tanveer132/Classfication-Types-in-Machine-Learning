{
  "nbformat": 4,
  "nbformat_minor": 0,
  "metadata": {
    "colab": {
      "name": "FST_Practice_RandomForest(HyperTuning).ipynb",
      "provenance": [],
      "authorship_tag": "ABX9TyPTWVE4/INHQuuv1ImzVXdc",
      "include_colab_link": true
    },
    "kernelspec": {
      "name": "python3",
      "display_name": "Python 3"
    },
    "language_info": {
      "name": "python"
    }
  },
  "cells": [
    {
      "cell_type": "markdown",
      "metadata": {
        "id": "view-in-github",
        "colab_type": "text"
      },
      "source": [
        "<a href=\"https://colab.research.google.com/github/Tanveer132/Classfication-Types-in-Machine-Learning/blob/main/FST_Practice_RandomForest(HyperTuning).ipynb\" target=\"_parent\"><img src=\"https://colab.research.google.com/assets/colab-badge.svg\" alt=\"Open In Colab\"/></a>"
      ]
    },
    {
      "cell_type": "markdown",
      "metadata": {
        "id": "EQFmkwyx0iqp"
      },
      "source": [
        "#Random Forest Algorithm \n",
        "\n",
        "data - diabetes\n",
        "\n",
        "model - RandomForestClassifier()"
      ]
    },
    {
      "cell_type": "code",
      "metadata": {
        "id": "bbJoXdMIzwn_"
      },
      "source": [
        "import numpy as np\n",
        "import pandas as pd\n",
        "import matplotlib.pyplot as plt\n",
        "import seaborn as sns\n",
        "\n",
        "from sklearn.preprocessing import LabelEncoder,StandardScaler\n",
        "from sklearn.model_selection import train_test_split\n",
        "from sklearn.metrics import accuracy_score,classification_report,confusion_matrix\n",
        "\n",
        "from sklearn.ensemble import RandomForestClassifier"
      ],
      "execution_count": 6,
      "outputs": []
    },
    {
      "cell_type": "code",
      "metadata": {
        "colab": {
          "base_uri": "https://localhost:8080/",
          "height": 206
        },
        "id": "fUswcHUW1DQR",
        "outputId": "cdeac3ba-b661-421f-c6c3-94d306f744e0"
      },
      "source": [
        "df=pd.read_csv('/content/diabetes.csv')\n",
        "df.head()"
      ],
      "execution_count": 3,
      "outputs": [
        {
          "output_type": "execute_result",
          "data": {
            "text/html": [
              "<div>\n",
              "<style scoped>\n",
              "    .dataframe tbody tr th:only-of-type {\n",
              "        vertical-align: middle;\n",
              "    }\n",
              "\n",
              "    .dataframe tbody tr th {\n",
              "        vertical-align: top;\n",
              "    }\n",
              "\n",
              "    .dataframe thead th {\n",
              "        text-align: right;\n",
              "    }\n",
              "</style>\n",
              "<table border=\"1\" class=\"dataframe\">\n",
              "  <thead>\n",
              "    <tr style=\"text-align: right;\">\n",
              "      <th></th>\n",
              "      <th>Pregnancies</th>\n",
              "      <th>Glucose</th>\n",
              "      <th>BloodPressure</th>\n",
              "      <th>SkinThickness</th>\n",
              "      <th>Insulin</th>\n",
              "      <th>BMI</th>\n",
              "      <th>DiabetesPedigreeFunction</th>\n",
              "      <th>Age</th>\n",
              "      <th>Outcome</th>\n",
              "    </tr>\n",
              "  </thead>\n",
              "  <tbody>\n",
              "    <tr>\n",
              "      <th>0</th>\n",
              "      <td>6</td>\n",
              "      <td>148</td>\n",
              "      <td>72</td>\n",
              "      <td>35</td>\n",
              "      <td>0</td>\n",
              "      <td>33.6</td>\n",
              "      <td>0.627</td>\n",
              "      <td>50</td>\n",
              "      <td>1</td>\n",
              "    </tr>\n",
              "    <tr>\n",
              "      <th>1</th>\n",
              "      <td>1</td>\n",
              "      <td>85</td>\n",
              "      <td>66</td>\n",
              "      <td>29</td>\n",
              "      <td>0</td>\n",
              "      <td>26.6</td>\n",
              "      <td>0.351</td>\n",
              "      <td>31</td>\n",
              "      <td>0</td>\n",
              "    </tr>\n",
              "    <tr>\n",
              "      <th>2</th>\n",
              "      <td>8</td>\n",
              "      <td>183</td>\n",
              "      <td>64</td>\n",
              "      <td>0</td>\n",
              "      <td>0</td>\n",
              "      <td>23.3</td>\n",
              "      <td>0.672</td>\n",
              "      <td>32</td>\n",
              "      <td>1</td>\n",
              "    </tr>\n",
              "    <tr>\n",
              "      <th>3</th>\n",
              "      <td>1</td>\n",
              "      <td>89</td>\n",
              "      <td>66</td>\n",
              "      <td>23</td>\n",
              "      <td>94</td>\n",
              "      <td>28.1</td>\n",
              "      <td>0.167</td>\n",
              "      <td>21</td>\n",
              "      <td>0</td>\n",
              "    </tr>\n",
              "    <tr>\n",
              "      <th>4</th>\n",
              "      <td>0</td>\n",
              "      <td>137</td>\n",
              "      <td>40</td>\n",
              "      <td>35</td>\n",
              "      <td>168</td>\n",
              "      <td>43.1</td>\n",
              "      <td>2.288</td>\n",
              "      <td>33</td>\n",
              "      <td>1</td>\n",
              "    </tr>\n",
              "  </tbody>\n",
              "</table>\n",
              "</div>"
            ],
            "text/plain": [
              "   Pregnancies  Glucose  BloodPressure  ...  DiabetesPedigreeFunction  Age  Outcome\n",
              "0            6      148             72  ...                     0.627   50        1\n",
              "1            1       85             66  ...                     0.351   31        0\n",
              "2            8      183             64  ...                     0.672   32        1\n",
              "3            1       89             66  ...                     0.167   21        0\n",
              "4            0      137             40  ...                     2.288   33        1\n",
              "\n",
              "[5 rows x 9 columns]"
            ]
          },
          "metadata": {
            "tags": []
          },
          "execution_count": 3
        }
      ]
    },
    {
      "cell_type": "code",
      "metadata": {
        "id": "i3V5GCXM2OJ5"
      },
      "source": [
        "x=df.drop(columns='Outcome')\n",
        "y=df['Outcome']\n",
        "\n",
        "xtrain,xtest,ytrain,ytest=train_test_split(x,y,test_size=0.2,random_state=0)"
      ],
      "execution_count": 4,
      "outputs": []
    },
    {
      "cell_type": "code",
      "metadata": {
        "id": "89sxTt1D2bcB"
      },
      "source": [
        "#model\n",
        "model=RandomForestClassifier()\n",
        "model.fit(xtrain,ytrain)\n",
        "\n",
        "ypred=model.predict(xtest)"
      ],
      "execution_count": 5,
      "outputs": []
    },
    {
      "cell_type": "code",
      "metadata": {
        "colab": {
          "base_uri": "https://localhost:8080/",
          "height": 457
        },
        "id": "y0DlbpNR2oth",
        "outputId": "d161aeff-2be3-49eb-bb22-baa8ce1d49f7"
      },
      "source": [
        "#accuracy\n",
        "acc=accuracy_score(ytest,ypred)\n",
        "report=classification_report(ytest,ypred)\n",
        "cm=confusion_matrix(ytest,ypred)\n",
        "print(\"Accuracy :\",acc)\n",
        "print(\"Report :\",report)\n",
        "sns.heatmap(cm,annot=True)"
      ],
      "execution_count": 7,
      "outputs": [
        {
          "output_type": "stream",
          "text": [
            "Accuracy : 0.7922077922077922\n",
            "Report :               precision    recall  f1-score   support\n",
            "\n",
            "           0       0.85      0.85      0.85       107\n",
            "           1       0.66      0.66      0.66        47\n",
            "\n",
            "    accuracy                           0.79       154\n",
            "   macro avg       0.76      0.76      0.76       154\n",
            "weighted avg       0.79      0.79      0.79       154\n",
            "\n"
          ],
          "name": "stdout"
        },
        {
          "output_type": "execute_result",
          "data": {
            "text/plain": [
              "<matplotlib.axes._subplots.AxesSubplot at 0x7f3676850410>"
            ]
          },
          "metadata": {
            "tags": []
          },
          "execution_count": 7
        },
        {
          "output_type": "display_data",
          "data": {
            "image/png": "[encoded data removed]",
            "text/plain": [
              "<Figure size 432x288 with 2 Axes>"
            ]
          },
          "metadata": {
            "tags": [],
            "needs_background": "light"
          }
        }
      ]
    },
    {
      "cell_type": "markdown",
      "metadata": {
        "id": "54fpI4wl3cZK"
      },
      "source": [
        "#Tunnig parameters of RandomForestClassofier"
      ]
    },
    {
      "cell_type": "code",
      "metadata": {
        "id": "BosykzJ13ZGN"
      },
      "source": [
        "# help(RandomForestClassifier)\n",
        "from sklearn.model_selection import GridSearchCV,RepeatedStratifiedKFold"
      ],
      "execution_count": 10,
      "outputs": []
    },
    {
      "cell_type": "markdown",
      "metadata": {
        "id": "8TAjTJwh4g90"
      },
      "source": [
        "Parameters :\n",
        "\n",
        "\n",
        "    n_estimators : integer, optional (default=100)\n",
        "     The number of trees in the forest. \n",
        "    If \"auto\", then `max_features=sqrt(n_features)`.\n",
        "          - If \"sqrt\", then `max_features=sqrt(n_features)` \n",
        "          - If \"log2\", then `max_features=log2(n_features)`.\n",
        "          - If None, then `max_features=n_features`.\n",
        "      "
      ]
    },
    {
      "cell_type": "code",
      "metadata": {
        "id": "AjhlIOWr30FG"
      },
      "source": [
        "#estimator\n",
        "model=RandomForestClassifier()\n",
        "\n",
        "#param_grid\n",
        "params={\"n_estimators\":[5,10,100,1000],\n",
        "        \"max_features\":['sqrt','log2']}\n",
        "\n",
        "#cross validator\n",
        "kfold=RepeatedStratifiedKFold(n_splits=5, n_repeats=10, random_state=1)\n",
        "\n",
        "#grid\n",
        "grid_cv=GridSearchCV(estimator=model,param_grid=params,cv=kfold,scoring='accuracy')"
      ],
      "execution_count": 14,
      "outputs": []
    },
    {
      "cell_type": "code",
      "metadata": {
        "id": "G5HMcM5V6E25"
      },
      "source": [
        "result=grid_cv.fit(xtrain,ytrain)"
      ],
      "execution_count": 15,
      "outputs": []
    },
    {
      "cell_type": "code",
      "metadata": {
        "colab": {
          "base_uri": "https://localhost:8080/"
        },
        "id": "xAUhi_a86LX3",
        "outputId": "6f0be107-5276-4c67-8db9-6f7c217d9f5c"
      },
      "source": [
        "print(result.best_score_)\n",
        "print(result.best_params_)"
      ],
      "execution_count": 16,
      "outputs": [
        {
          "output_type": "stream",
          "text": [
            "0.7505064640810343\n",
            "{'max_features': 'sqrt', 'n_estimators': 1000}\n"
          ],
          "name": "stdout"
        }
      ]
    },
    {
      "cell_type": "code",
      "metadata": {
        "id": "hxvk10UD7P6C"
      },
      "source": [
        "#model\n",
        "model=RandomForestClassifier(max_features='sqrt',n_estimators=1000)\n",
        "model.fit(xtrain,ytrain)\n",
        "\n",
        "ypred=model.predict(xtest)"
      ],
      "execution_count": 17,
      "outputs": []
    },
    {
      "cell_type": "code",
      "metadata": {
        "colab": {
          "base_uri": "https://localhost:8080/",
          "height": 456
        },
        "id": "Shap3NyW7adw",
        "outputId": "5742d438-261e-4c83-e6c0-f90252e39e0e"
      },
      "source": [
        "#accuracy\n",
        "acc=accuracy_score(ytest,ypred)\n",
        "report=classification_report(ytest,ypred)\n",
        "cm=confusion_matrix(ytest,ypred)\n",
        "print(\"Accuracy :\",acc)\n",
        "print(\"Report :\",report)\n",
        "sns.heatmap(cm,annot=True)"
      ],
      "execution_count": 18,
      "outputs": [
        {
          "output_type": "stream",
          "text": [
            "Accuracy : 0.8116883116883117\n",
            "Report :               precision    recall  f1-score   support\n",
            "\n",
            "           0       0.85      0.88      0.87       107\n",
            "           1       0.70      0.66      0.68        47\n",
            "\n",
            "    accuracy                           0.81       154\n",
            "   macro avg       0.78      0.77      0.77       154\n",
            "weighted avg       0.81      0.81      0.81       154\n",
            "\n"
          ],
          "name": "stdout"
        },
        {
          "output_type": "execute_result",
          "data": {
            "text/plain": [
              "<matplotlib.axes._subplots.AxesSubplot at 0x7f366e04e690>"
            ]
          },
          "metadata": {
            "tags": []
          },
          "execution_count": 18
        },
        {
          "output_type": "display_data",
          "data": {
            "image/png": "[encoded data removed]",
            "text/plain": [
              "<Figure size 432x288 with 2 Axes>"
            ]
          },
          "metadata": {
            "tags": [],
            "needs_background": "light"
          }
        }
      ]
    },
    {
      "cell_type": "code",
      "metadata": {
        "id": "Vm7OYq3V7eMx"
      },
      "source": [
        ""
      ],
      "execution_count": null,
      "outputs": []
    }
  ]
}