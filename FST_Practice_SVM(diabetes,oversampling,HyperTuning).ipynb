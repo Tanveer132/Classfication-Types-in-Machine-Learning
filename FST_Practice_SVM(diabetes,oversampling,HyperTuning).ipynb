{
  "nbformat": 4,
  "nbformat_minor": 0,
  "metadata": {
    "colab": {
      "name": "FST_Practice_SVM(diabetes,oversampling,HyperTuning)",
      "provenance": [],
      "authorship_tag": "ABX9TyMJ7FnqUJThnIp++zy8vRNd",
      "include_colab_link": true
    },
    "kernelspec": {
      "display_name": "Python 3",
      "name": "python3"
    },
    "language_info": {
      "name": "python"
    }
  },
  "cells": [
    {
      "cell_type": "markdown",
      "metadata": {
        "id": "view-in-github",
        "colab_type": "text"
      },
      "source": [
        "<a href=\"https://colab.research.google.com/github/Tanveer132/Classfication-Types-in-Machine-Learning/blob/main/FST_Practice_SVM(diabetes%2Coversampling%2CHyperTuning).ipynb\" target=\"_parent\"><img src=\"https://colab.research.google.com/assets/colab-badge.svg\" alt=\"Open In Colab\"/></a>"
      ]
    },
    {
      "cell_type": "markdown",
      "metadata": {
        "id": "t72d7wvjhWAj"
      },
      "source": [
        "#Perform support vector machine classification\n",
        "\n",
        "data - diabetes data\n",
        "\n",
        "model - SVC()"
      ]
    },
    {
      "cell_type": "code",
      "metadata": {
        "id": "O-zLZ_dVhDuK"
      },
      "source": [
        "import numpy as np\n",
        "import pandas as pd\n",
        "import matplotlib.pyplot as plt\n",
        "import seaborn as sns\n",
        "from sklearn.model_selection import train_test_split\n",
        "from sklearn.preprocessing import StandardScaler,LabelEncoder\n",
        "from sklearn.metrics import accuracy_score,classification_report,confusion_matrix\n",
        "\n",
        "from sklearn.svm import SVC"
      ],
      "execution_count": 1,
      "outputs": []
    },
    {
      "cell_type": "code",
      "metadata": {
        "colab": {
          "base_uri": "https://localhost:8080/",
          "height": 206
        },
        "id": "S7vTuG0OhwQJ",
        "outputId": "c0068893-afdb-41f8-eec9-8157f9ef1047"
      },
      "source": [
        "df=pd.read_csv('/content/diabetes.csv')\n",
        "df.head()"
      ],
      "execution_count": 2,
      "outputs": [
        {
          "output_type": "execute_result",
          "data": {
            "text/html": [
              "<div>\n",
              "<style scoped>\n",
              "    .dataframe tbody tr th:only-of-type {\n",
              "        vertical-align: middle;\n",
              "    }\n",
              "\n",
              "    .dataframe tbody tr th {\n",
              "        vertical-align: top;\n",
              "    }\n",
              "\n",
              "    .dataframe thead th {\n",
              "        text-align: right;\n",
              "    }\n",
              "</style>\n",
              "<table border=\"1\" class=\"dataframe\">\n",
              "  <thead>\n",
              "    <tr style=\"text-align: right;\">\n",
              "      <th></th>\n",
              "      <th>Pregnancies</th>\n",
              "      <th>Glucose</th>\n",
              "      <th>BloodPressure</th>\n",
              "      <th>SkinThickness</th>\n",
              "      <th>Insulin</th>\n",
              "      <th>BMI</th>\n",
              "      <th>DiabetesPedigreeFunction</th>\n",
              "      <th>Age</th>\n",
              "      <th>Outcome</th>\n",
              "    </tr>\n",
              "  </thead>\n",
              "  <tbody>\n",
              "    <tr>\n",
              "      <th>0</th>\n",
              "      <td>6</td>\n",
              "      <td>148</td>\n",
              "      <td>72</td>\n",
              "      <td>35</td>\n",
              "      <td>0</td>\n",
              "      <td>33.6</td>\n",
              "      <td>0.627</td>\n",
              "      <td>50</td>\n",
              "      <td>1</td>\n",
              "    </tr>\n",
              "    <tr>\n",
              "      <th>1</th>\n",
              "      <td>1</td>\n",
              "      <td>85</td>\n",
              "      <td>66</td>\n",
              "      <td>29</td>\n",
              "      <td>0</td>\n",
              "      <td>26.6</td>\n",
              "      <td>0.351</td>\n",
              "      <td>31</td>\n",
              "      <td>0</td>\n",
              "    </tr>\n",
              "    <tr>\n",
              "      <th>2</th>\n",
              "      <td>8</td>\n",
              "      <td>183</td>\n",
              "      <td>64</td>\n",
              "      <td>0</td>\n",
              "      <td>0</td>\n",
              "      <td>23.3</td>\n",
              "      <td>0.672</td>\n",
              "      <td>32</td>\n",
              "      <td>1</td>\n",
              "    </tr>\n",
              "    <tr>\n",
              "      <th>3</th>\n",
              "      <td>1</td>\n",
              "      <td>89</td>\n",
              "      <td>66</td>\n",
              "      <td>23</td>\n",
              "      <td>94</td>\n",
              "      <td>28.1</td>\n",
              "      <td>0.167</td>\n",
              "      <td>21</td>\n",
              "      <td>0</td>\n",
              "    </tr>\n",
              "    <tr>\n",
              "      <th>4</th>\n",
              "      <td>0</td>\n",
              "      <td>137</td>\n",
              "      <td>40</td>\n",
              "      <td>35</td>\n",
              "      <td>168</td>\n",
              "      <td>43.1</td>\n",
              "      <td>2.288</td>\n",
              "      <td>33</td>\n",
              "      <td>1</td>\n",
              "    </tr>\n",
              "  </tbody>\n",
              "</table>\n",
              "</div>"
            ],
            "text/plain": [
              "   Pregnancies  Glucose  BloodPressure  ...  DiabetesPedigreeFunction  Age  Outcome\n",
              "0            6      148             72  ...                     0.627   50        1\n",
              "1            1       85             66  ...                     0.351   31        0\n",
              "2            8      183             64  ...                     0.672   32        1\n",
              "3            1       89             66  ...                     0.167   21        0\n",
              "4            0      137             40  ...                     2.288   33        1\n",
              "\n",
              "[5 rows x 9 columns]"
            ]
          },
          "metadata": {
            "tags": []
          },
          "execution_count": 2
        }
      ]
    },
    {
      "cell_type": "code",
      "metadata": {
        "colab": {
          "base_uri": "https://localhost:8080/"
        },
        "id": "Hvt6AQQviZMS",
        "outputId": "0fea119a-0753-4d3b-b8df-5bd5160d7793"
      },
      "source": [
        "df.info()"
      ],
      "execution_count": 3,
      "outputs": [
        {
          "output_type": "stream",
          "text": [
            "<class 'pandas.core.frame.DataFrame'>\n",
            "RangeIndex: 768 entries, 0 to 767\n",
            "Data columns (total 9 columns):\n",
            " #   Column                    Non-Null Count  Dtype  \n",
            "---  ------                    --------------  -----  \n",
            " 0   Pregnancies               768 non-null    int64  \n",
            " 1   Glucose                   768 non-null    int64  \n",
            " 2   BloodPressure             768 non-null    int64  \n",
            " 3   SkinThickness             768 non-null    int64  \n",
            " 4   Insulin                   768 non-null    int64  \n",
            " 5   BMI                       768 non-null    float64\n",
            " 6   DiabetesPedigreeFunction  768 non-null    float64\n",
            " 7   Age                       768 non-null    int64  \n",
            " 8   Outcome                   768 non-null    int64  \n",
            "dtypes: float64(2), int64(7)\n",
            "memory usage: 54.1 KB\n"
          ],
          "name": "stdout"
        }
      ]
    },
    {
      "cell_type": "code",
      "metadata": {
        "colab": {
          "base_uri": "https://localhost:8080/"
        },
        "id": "KqEXLmhHibWX",
        "outputId": "83129e3b-eced-4aec-821a-8565d2284f7f"
      },
      "source": [
        "df.isna().sum()"
      ],
      "execution_count": 4,
      "outputs": [
        {
          "output_type": "execute_result",
          "data": {
            "text/plain": [
              "Pregnancies                 0\n",
              "Glucose                     0\n",
              "BloodPressure               0\n",
              "SkinThickness               0\n",
              "Insulin                     0\n",
              "BMI                         0\n",
              "DiabetesPedigreeFunction    0\n",
              "Age                         0\n",
              "Outcome                     0\n",
              "dtype: int64"
            ]
          },
          "metadata": {
            "tags": []
          },
          "execution_count": 4
        }
      ]
    },
    {
      "cell_type": "code",
      "metadata": {
        "colab": {
          "base_uri": "https://localhost:8080/",
          "height": 351
        },
        "id": "dTSkWvZjieqU",
        "outputId": "93194208-0c7f-43e4-80ad-84080eba46e3"
      },
      "source": [
        "sns.countplot(df['Outcome'],data=df)"
      ],
      "execution_count": 5,
      "outputs": [
        {
          "output_type": "stream",
          "text": [
            "/usr/local/lib/python3.7/dist-packages/seaborn/_decorators.py:43: FutureWarning: Pass the following variable as a keyword arg: x. From version 0.12, the only valid positional argument will be `data`, and passing other arguments without an explicit keyword will result in an error or misinterpretation.\n",
            "  FutureWarning\n"
          ],
          "name": "stderr"
        },
        {
          "output_type": "execute_result",
          "data": {
            "text/plain": [
              "<matplotlib.axes._subplots.AxesSubplot at 0x7f0d0ab8b6d0>"
            ]
          },
          "metadata": {
            "tags": []
          },
          "execution_count": 5
        },
        {
          "output_type": "display_data",
          "data": {
            "image/png": "[encoded data removed]",
            "text/plain": [
              "<Figure size 432x288 with 1 Axes>"
            ]
          },
          "metadata": {
            "tags": [],
            "needs_background": "light"
          }
        }
      ]
    },
    {
      "cell_type": "code",
      "metadata": {
        "id": "FZ6pVgUfi7Ph"
      },
      "source": [
        "x=df.drop(columns='Outcome')\n",
        "y=df['Outcome']\n",
        "\n",
        "xtrain,xtest,ytrain,ytest=train_test_split(x,y,test_size=0.2,random_state=0)"
      ],
      "execution_count": 6,
      "outputs": []
    },
    {
      "cell_type": "code",
      "metadata": {
        "id": "1yJb77JijVYA"
      },
      "source": [
        "#model \n",
        "model = SVC()\n",
        "model.fit(xtrain,ytrain)\n",
        "\n",
        "ypred=model.predict(xtest)"
      ],
      "execution_count": 7,
      "outputs": []
    },
    {
      "cell_type": "code",
      "metadata": {
        "colab": {
          "base_uri": "https://localhost:8080/",
          "height": 456
        },
        "id": "JWBfpxeCjjbe",
        "outputId": "fbb58430-8d6b-484a-f009-ba9c8bd50d4e"
      },
      "source": [
        "#Accuracy\n",
        "acc=accuracy_score(ytest,ypred)\n",
        "report=classification_report(ytest,ypred)\n",
        "cm=confusion_matrix(ytest,ypred)\n",
        "print(\"Accuracy :\",acc)\n",
        "print(\"Report :\",report)\n",
        "sns.heatmap(cm,annot=True)"
      ],
      "execution_count": 8,
      "outputs": [
        {
          "output_type": "stream",
          "text": [
            "Accuracy : 0.7922077922077922\n",
            "Report :               precision    recall  f1-score   support\n",
            "\n",
            "           0       0.81      0.92      0.86       107\n",
            "           1       0.73      0.51      0.60        47\n",
            "\n",
            "    accuracy                           0.79       154\n",
            "   macro avg       0.77      0.71      0.73       154\n",
            "weighted avg       0.78      0.79      0.78       154\n",
            "\n"
          ],
          "name": "stdout"
        },
        {
          "output_type": "execute_result",
          "data": {
            "text/plain": [
              "<matplotlib.axes._subplots.AxesSubplot at 0x7f0d22276fd0>"
            ]
          },
          "metadata": {
            "tags": []
          },
          "execution_count": 8
        },
        {
          "output_type": "display_data",
          "data": {
            "image/png": "[encoded data removed]",
            "text/plain": [
              "<Figure size 432x288 with 2 Axes>"
            ]
          },
          "metadata": {
            "tags": [],
            "needs_background": "light"
          }
        }
      ]
    },
    {
      "cell_type": "markdown",
      "metadata": {
        "id": "lfxI84LJkXTx"
      },
      "source": [
        "**Conclusion :** we got the accuracy of 0.7922077922077922"
      ]
    },
    {
      "cell_type": "markdown",
      "metadata": {
        "id": "vLDClChfkfaH"
      },
      "source": [
        "#Create oversampled data and perform SVM \n"
      ]
    },
    {
      "cell_type": "code",
      "metadata": {
        "id": "4xskJQXJkMbk"
      },
      "source": [
        "#Select data for each label\n",
        "yes=df[df['Outcome']==1].index\n",
        "no=df[df['Outcome']==0].index\n",
        "\n",
        "#We will increase \"yes\" data equal to \"no\"\n",
        "random_index=np.array(np.random.choice(yes,len(no)))\n",
        "new_index=np.concatenate([no,random_index])\n",
        "data=df.iloc[new_index,:]"
      ],
      "execution_count": 9,
      "outputs": []
    },
    {
      "cell_type": "code",
      "metadata": {
        "colab": {
          "base_uri": "https://localhost:8080/",
          "height": 351
        },
        "id": "-hl0k-bgmizj",
        "outputId": "6eb012ec-f4fe-4d0c-c734-713b8a4a414e"
      },
      "source": [
        "sns.countplot(data['Outcome'],data=data)"
      ],
      "execution_count": 10,
      "outputs": [
        {
          "output_type": "stream",
          "text": [
            "/usr/local/lib/python3.7/dist-packages/seaborn/_decorators.py:43: FutureWarning: Pass the following variable as a keyword arg: x. From version 0.12, the only valid positional argument will be `data`, and passing other arguments without an explicit keyword will result in an error or misinterpretation.\n",
            "  FutureWarning\n"
          ],
          "name": "stderr"
        },
        {
          "output_type": "execute_result",
          "data": {
            "text/plain": [
              "<matplotlib.axes._subplots.AxesSubplot at 0x7f0d022ec050>"
            ]
          },
          "metadata": {
            "tags": []
          },
          "execution_count": 10
        },
        {
          "output_type": "display_data",
          "data": {
            "image/png": "[encoded data removed]",
            "text/plain": [
              "<Figure size 432x288 with 1 Axes>"
            ]
          },
          "metadata": {
            "tags": [],
            "needs_background": "light"
          }
        }
      ]
    },
    {
      "cell_type": "markdown",
      "metadata": {
        "id": "jg-JDcFUm_0c"
      },
      "source": [
        "**Conclusion :** Now we have same amount of data for both labels"
      ]
    },
    {
      "cell_type": "code",
      "metadata": {
        "id": "RrDSyMucm7tr"
      },
      "source": [
        "x=data.drop(columns='Outcome')\n",
        "y=data['Outcome']\n",
        "\n",
        "xtrain,xtest,ytrain,ytest=train_test_split(x,y,test_size=0.2,random_state=0)"
      ],
      "execution_count": 11,
      "outputs": []
    },
    {
      "cell_type": "code",
      "metadata": {
        "id": "I1f7K3htnSo7"
      },
      "source": [
        "#model \n",
        "model = SVC()\n",
        "model.fit(xtrain,ytrain)\n",
        "\n",
        "ypred=model.predict(xtest)\n",
        "\n"
      ],
      "execution_count": 12,
      "outputs": []
    },
    {
      "cell_type": "code",
      "metadata": {
        "colab": {
          "base_uri": "https://localhost:8080/",
          "height": 456
        },
        "id": "7ITbCkIKnZlt",
        "outputId": "74b512b1-48cf-4fe2-aa56-718e7f4a91ff"
      },
      "source": [
        "#Accuracy\n",
        "acc=accuracy_score(ytest,ypred)\n",
        "report=classification_report(ytest,ypred)\n",
        "cm=confusion_matrix(ytest,ypred)\n",
        "print(\"Accuracy :\",acc)\n",
        "print(\"Report :\",report)\n",
        "sns.heatmap(cm,annot=True)"
      ],
      "execution_count": 13,
      "outputs": [
        {
          "output_type": "stream",
          "text": [
            "Accuracy : 0.685\n",
            "Report :               precision    recall  f1-score   support\n",
            "\n",
            "           0       0.65      0.76      0.70        98\n",
            "           1       0.72      0.62      0.67       102\n",
            "\n",
            "    accuracy                           0.69       200\n",
            "   macro avg       0.69      0.69      0.68       200\n",
            "weighted avg       0.69      0.69      0.68       200\n",
            "\n"
          ],
          "name": "stdout"
        },
        {
          "output_type": "execute_result",
          "data": {
            "text/plain": [
              "<matplotlib.axes._subplots.AxesSubplot at 0x7f0d0ab21c50>"
            ]
          },
          "metadata": {
            "tags": []
          },
          "execution_count": 13
        },
        {
          "output_type": "display_data",
          "data": {
            "image/png": "[encoded data removed]",
            "text/plain": [
              "<Figure size 432x288 with 2 Axes>"
            ]
          },
          "metadata": {
            "tags": [],
            "needs_background": "light"
          }
        }
      ]
    },
    {
      "cell_type": "markdown",
      "metadata": {
        "id": "NCEwG_MTng4O"
      },
      "source": [
        "**Conclusion :** We can observe increased accuracy for class 1 label"
      ]
    },
    {
      "cell_type": "markdown",
      "metadata": {
        "id": "SREuHD4Eno-B"
      },
      "source": [
        "#Tuning Hyperparameters\n",
        "\n"
      ]
    },
    {
      "cell_type": "code",
      "metadata": {
        "id": "PhjkR3jQnbXv"
      },
      "source": [
        "# help(SVC)\n",
        "\n",
        "from sklearn.model_selection import GridSearchCV\n",
        "from sklearn.model_selection import RepeatedStratifiedKFold\n"
      ],
      "execution_count": 14,
      "outputs": []
    },
    {
      "cell_type": "markdown",
      "metadata": {
        "id": "GIopUGb0oEm2"
      },
      "source": [
        "Parameters :\n",
        "\n",
        "     |  C : float, optional (default=1.0)\n",
        "     |      Regularization parameter. The strength of the regularization\n",
        "     is\n",
        "     |      inversely proportional to C. Must be strictly positive\n",
        "     The     penalty\n",
        "     |      is a squared l2 penalty.\n",
        "     |  \n",
        "     |  kernel : string, optional (default='rbf')\n",
        "     |      Specifies the kernel type to be used in the algorithm.\n",
        "     |      It must be one of 'linear', 'poly', 'rbf', 'sigmoid',  \n",
        "     'precomputed' or\n",
        "     |      a callable.\n",
        "     |      If none is given, 'rbf' will be used. If a callable is given\n",
        "     it     is\n",
        "     |      used to pre-compute the kernel matrix from data matrices;\n",
        "     that    matrix\n",
        "     |      should be an array of shape ``(n_samples, n_samples)``.\n",
        "     |  \n",
        "     |  degree : int, optional (default=3)\n",
        "     |      Degree of the polynomial kernel function ('poly').\n",
        "     |      Ignored by all other kernels.\n",
        "     |  \n",
        "     |  gamma : {'scale', 'auto'} or float, optional (default='scale')\n",
        "     |      Kernel coefficient for 'rbf', 'poly' and 'sigmoid'."
      ]
    },
    {
      "cell_type": "code",
      "metadata": {
        "id": "fWNncsxKnwV5"
      },
      "source": [
        "#estimators\n",
        "model=SVC()\n",
        "\n",
        "#params\n",
        "params={\"C\":[100,50,10,1,0.1,0.01],\n",
        "        \"kernel\":['linear', 'poly', 'rbf', 'sigmoid', 'precomputed'],\n",
        "        \"gamma\":['scale']}\n",
        "\n",
        "#cross validator\n",
        "kfold=RepeatedStratifiedKFold(n_splits=5, n_repeats=10,random_state=1)"
      ],
      "execution_count": 15,
      "outputs": []
    },
    {
      "cell_type": "code",
      "metadata": {
        "id": "EK8Uvev4paAJ"
      },
      "source": [
        "# grid_cv=GridSearchCV(estimator=model,param_grid=params,cv=kfold,scoring='accuracy')\n",
        "# result=grid_cv.fit(xtrain,ytrain)\n"
      ],
      "execution_count": 16,
      "outputs": []
    },
    {
      "cell_type": "code",
      "metadata": {
        "id": "0PmUZfzusIdp"
      },
      "source": [
        "# print(result.best_score_)\n",
        "# print(result.best_params_)"
      ],
      "execution_count": 17,
      "outputs": []
    },
    {
      "cell_type": "code",
      "metadata": {
        "id": "Lr2vuo5EqAu7"
      },
      "source": [
        "#model \n",
        "model = SVC(kernel='rbf',C=10,gamma='scale')\n",
        "model.fit(xtrain,ytrain)\n",
        "\n",
        "ypred=model.predict(xtest)"
      ],
      "execution_count": 18,
      "outputs": []
    },
    {
      "cell_type": "code",
      "metadata": {
        "id": "BQlpzIvrreWD",
        "colab": {
          "base_uri": "https://localhost:8080/",
          "height": 456
        },
        "outputId": "84c0477b-fc0e-40aa-e2f9-9e43d0a48e6e"
      },
      "source": [
        "#Accuracy\n",
        "acc=accuracy_score(ytest,ypred)\n",
        "report=classification_report(ytest,ypred)\n",
        "cm=confusion_matrix(ytest,ypred)\n",
        "print(\"Accuracy :\",acc)\n",
        "print(\"Report :\",report)\n",
        "sns.heatmap(cm,annot=True)"
      ],
      "execution_count": 19,
      "outputs": [
        {
          "output_type": "stream",
          "text": [
            "Accuracy : 0.71\n",
            "Report :               precision    recall  f1-score   support\n",
            "\n",
            "           0       0.69      0.76      0.72        98\n",
            "           1       0.74      0.67      0.70       102\n",
            "\n",
            "    accuracy                           0.71       200\n",
            "   macro avg       0.71      0.71      0.71       200\n",
            "weighted avg       0.71      0.71      0.71       200\n",
            "\n"
          ],
          "name": "stdout"
        },
        {
          "output_type": "execute_result",
          "data": {
            "text/plain": [
              "<matplotlib.axes._subplots.AxesSubplot at 0x7f0d01a0f0d0>"
            ]
          },
          "metadata": {
            "tags": []
          },
          "execution_count": 19
        },
        {
          "output_type": "display_data",
          "data": {
            "image/png": "[encoded data removed]",
            "text/plain": [
              "<Figure size 432x288 with 2 Axes>"
            ]
          },
          "metadata": {
            "tags": [],
            "needs_background": "light"
          }
        }
      ]
    }
  ]
}