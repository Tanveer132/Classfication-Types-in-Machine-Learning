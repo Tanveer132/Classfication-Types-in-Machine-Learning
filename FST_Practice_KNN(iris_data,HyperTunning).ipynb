{
  "nbformat": 4,
  "nbformat_minor": 0,
  "metadata": {
    "colab": {
      "name": "FST_Practice_KNN(iris data,HyperTunning).ipynb",
      "provenance": [],
      "authorship_tag": "ABX9TyOSx3kpu1ZY7f6rxhtqBuZW",
      "include_colab_link": true
    },
    "kernelspec": {
      "name": "python3",
      "display_name": "Python 3"
    },
    "language_info": {
      "name": "python"
    }
  },
  "cells": [
    {
      "cell_type": "markdown",
      "metadata": {
        "id": "view-in-github",
        "colab_type": "text"
      },
      "source": [
        "<a href=\"https://colab.research.google.com/github/Tanveer132/Classfication-Types-in-Machine-Learning/blob/main/FST_Practice_KNN(iris_data%2CHyperTunning).ipynb\" target=\"_parent\"><img src=\"https://colab.research.google.com/assets/colab-badge.svg\" alt=\"Open In Colab\"/></a>"
      ]
    },
    {
      "cell_type": "markdown",
      "metadata": {
        "id": "FUpn9gHRiq5M"
      },
      "source": [
        "#K Nearest Neighbors Classification\n",
        "\n",
        "data - iris data\n",
        "\n",
        "model - KNeighborsClassifier()"
      ]
    },
    {
      "cell_type": "code",
      "metadata": {
        "id": "4s0hhdYch4g0"
      },
      "source": [
        "import numpy as np\n",
        "import pandas as pd\n",
        "import matplotlib.pyplot as plt\n",
        "import seaborn as sns\n",
        "\n",
        "from sklearn.preprocessing import LabelEncoder,StandardScaler\n",
        "from sklearn.model_selection import train_test_split\n",
        "from sklearn.metrics import accuracy_score,classification_report,confusion_matrix\n",
        "\n",
        "from sklearn.neighbors import KNeighborsClassifier"
      ],
      "execution_count": 8,
      "outputs": []
    },
    {
      "cell_type": "code",
      "metadata": {
        "colab": {
          "base_uri": "https://localhost:8080/",
          "height": 206
        },
        "id": "kz21FfSqjwaM",
        "outputId": "8d5a2bc4-95ed-4183-f24b-73132bff3e73"
      },
      "source": [
        "df=pd.read_csv('/content/iris.csv')\n",
        "df.head()"
      ],
      "execution_count": 2,
      "outputs": [
        {
          "output_type": "execute_result",
          "data": {
            "text/html": [
              "<div>\n",
              "<style scoped>\n",
              "    .dataframe tbody tr th:only-of-type {\n",
              "        vertical-align: middle;\n",
              "    }\n",
              "\n",
              "    .dataframe tbody tr th {\n",
              "        vertical-align: top;\n",
              "    }\n",
              "\n",
              "    .dataframe thead th {\n",
              "        text-align: right;\n",
              "    }\n",
              "</style>\n",
              "<table border=\"1\" class=\"dataframe\">\n",
              "  <thead>\n",
              "    <tr style=\"text-align: right;\">\n",
              "      <th></th>\n",
              "      <th>sepal_length</th>\n",
              "      <th>sepal_width</th>\n",
              "      <th>petal_length</th>\n",
              "      <th>petal_width</th>\n",
              "      <th>species</th>\n",
              "    </tr>\n",
              "  </thead>\n",
              "  <tbody>\n",
              "    <tr>\n",
              "      <th>0</th>\n",
              "      <td>5.1</td>\n",
              "      <td>3.5</td>\n",
              "      <td>1.4</td>\n",
              "      <td>0.2</td>\n",
              "      <td>setosa</td>\n",
              "    </tr>\n",
              "    <tr>\n",
              "      <th>1</th>\n",
              "      <td>4.9</td>\n",
              "      <td>3.0</td>\n",
              "      <td>1.4</td>\n",
              "      <td>0.2</td>\n",
              "      <td>setosa</td>\n",
              "    </tr>\n",
              "    <tr>\n",
              "      <th>2</th>\n",
              "      <td>4.7</td>\n",
              "      <td>3.2</td>\n",
              "      <td>1.3</td>\n",
              "      <td>0.2</td>\n",
              "      <td>setosa</td>\n",
              "    </tr>\n",
              "    <tr>\n",
              "      <th>3</th>\n",
              "      <td>4.6</td>\n",
              "      <td>3.1</td>\n",
              "      <td>1.5</td>\n",
              "      <td>0.2</td>\n",
              "      <td>setosa</td>\n",
              "    </tr>\n",
              "    <tr>\n",
              "      <th>4</th>\n",
              "      <td>5.0</td>\n",
              "      <td>3.6</td>\n",
              "      <td>1.4</td>\n",
              "      <td>0.2</td>\n",
              "      <td>setosa</td>\n",
              "    </tr>\n",
              "  </tbody>\n",
              "</table>\n",
              "</div>"
            ],
            "text/plain": [
              "   sepal_length  sepal_width  petal_length  petal_width species\n",
              "0           5.1          3.5           1.4          0.2  setosa\n",
              "1           4.9          3.0           1.4          0.2  setosa\n",
              "2           4.7          3.2           1.3          0.2  setosa\n",
              "3           4.6          3.1           1.5          0.2  setosa\n",
              "4           5.0          3.6           1.4          0.2  setosa"
            ]
          },
          "metadata": {
            "tags": []
          },
          "execution_count": 2
        }
      ]
    },
    {
      "cell_type": "code",
      "metadata": {
        "colab": {
          "base_uri": "https://localhost:8080/"
        },
        "id": "cKLSxAFikn1z",
        "outputId": "d89a2808-5a54-445f-9545-836e87981445"
      },
      "source": [
        "df.info()"
      ],
      "execution_count": 3,
      "outputs": [
        {
          "output_type": "stream",
          "text": [
            "<class 'pandas.core.frame.DataFrame'>\n",
            "RangeIndex: 150 entries, 0 to 149\n",
            "Data columns (total 5 columns):\n",
            " #   Column        Non-Null Count  Dtype  \n",
            "---  ------        --------------  -----  \n",
            " 0   sepal_length  150 non-null    float64\n",
            " 1   sepal_width   150 non-null    float64\n",
            " 2   petal_length  150 non-null    float64\n",
            " 3   petal_width   150 non-null    float64\n",
            " 4   species       150 non-null    object \n",
            "dtypes: float64(4), object(1)\n",
            "memory usage: 6.0+ KB\n"
          ],
          "name": "stdout"
        }
      ]
    },
    {
      "cell_type": "code",
      "metadata": {
        "colab": {
          "base_uri": "https://localhost:8080/"
        },
        "id": "WxQEIDRaksxv",
        "outputId": "53ac2255-8664-478d-cec1-70be31adee5c"
      },
      "source": [
        "df.isna().sum()"
      ],
      "execution_count": 4,
      "outputs": [
        {
          "output_type": "execute_result",
          "data": {
            "text/plain": [
              "sepal_length    0\n",
              "sepal_width     0\n",
              "petal_length    0\n",
              "petal_width     0\n",
              "species         0\n",
              "dtype: int64"
            ]
          },
          "metadata": {
            "tags": []
          },
          "execution_count": 4
        }
      ]
    },
    {
      "cell_type": "code",
      "metadata": {
        "id": "D2g3-KDul_IE"
      },
      "source": [
        "#encoding labels\n",
        "le=LabelEncoder()\n",
        "df['species']=le.fit_transform(df['species'])"
      ],
      "execution_count": 5,
      "outputs": []
    },
    {
      "cell_type": "code",
      "metadata": {
        "id": "NUO8tT58kvdf"
      },
      "source": [
        "x=df.drop(columns='species')\n",
        "y=df['species']\n",
        "\n",
        "xtrain,xtest,ytrain,ytest=train_test_split(x,y,test_size=0.2,random_state=0)\n"
      ],
      "execution_count": 6,
      "outputs": []
    },
    {
      "cell_type": "code",
      "metadata": {
        "id": "h98NLQIylh_Q"
      },
      "source": [
        "model=KNeighborsClassifier()\n",
        "model.fit(xtrain,ytrain)\n",
        "\n",
        "ypred=model.predict(xtest)\n"
      ],
      "execution_count": 7,
      "outputs": []
    },
    {
      "cell_type": "code",
      "metadata": {
        "colab": {
          "base_uri": "https://localhost:8080/",
          "height": 477
        },
        "id": "YRltu_P4l7bO",
        "outputId": "9283f8ff-b17e-43dd-d2bd-b5491005683a"
      },
      "source": [
        "#Check accuracy\n",
        "acc=accuracy_score(ytest,ypred)\n",
        "report=classification_report(ytest,ypred)\n",
        "cm=confusion_matrix(ytest,ypred)\n",
        "print(\"Accuracy :\",acc)\n",
        "print(\"Report\",report)\n",
        "sns.heatmap(cm,annot=True)"
      ],
      "execution_count": 9,
      "outputs": [
        {
          "output_type": "stream",
          "text": [
            "Accuracy : 0.9666666666666667\n",
            "Report               precision    recall  f1-score   support\n",
            "\n",
            "           0       1.00      1.00      1.00        11\n",
            "           1       1.00      0.92      0.96        13\n",
            "           2       0.86      1.00      0.92         6\n",
            "\n",
            "    accuracy                           0.97        30\n",
            "   macro avg       0.95      0.97      0.96        30\n",
            "weighted avg       0.97      0.97      0.97        30\n",
            "\n"
          ],
          "name": "stdout"
        },
        {
          "output_type": "execute_result",
          "data": {
            "text/plain": [
              "<matplotlib.axes._subplots.AxesSubplot at 0x7fe233dd8e50>"
            ]
          },
          "metadata": {
            "tags": []
          },
          "execution_count": 9
        },
        {
          "output_type": "display_data",
          "data": {
            "image/png": "[encoded data removed]",
            "text/plain": [
              "<Figure size 432x288 with 2 Axes>"
            ]
          },
          "metadata": {
            "tags": [],
            "needs_background": "light"
          }
        }
      ]
    },
    {
      "cell_type": "markdown",
      "metadata": {
        "id": "YxJ8HubOZyIJ"
      },
      "source": [
        "#K Nearest Neighbors Classification- Tunning Hyperparameters\n",
        "\n",
        "data - iris data\n",
        "\n",
        "model - KNeighborsClassifier()\n",
        "\n",
        "    parameters :\n",
        "\n",
        "    n_neighbors - int, optional (default = 5)\n",
        "\n",
        "    metric - \"euclidean\",\"manhattan\",\"minkowski\"\n",
        "\n",
        "    weights -\n",
        "    'uniform' : uniform weights.  All points in each\n",
        "    neighborhood are weighted equally.\n",
        "    'distance' : weight points by the inverse of their distance.\n",
        "    in this case, closer neighbors of a query point will have a greater\n",
        "    influence than neighbors which are further away.    "
      ]
    },
    {
      "cell_type": "code",
      "metadata": {
        "id": "MDZepHiYZ5ub"
      },
      "source": [
        "# help(KNeighborsClassifier)\n",
        "from sklearn.model_selection import GridSearchCV,RepeatedStratifiedKFold"
      ],
      "execution_count": 15,
      "outputs": []
    },
    {
      "cell_type": "code",
      "metadata": {
        "id": "OgaEnSbkc1mA"
      },
      "source": [
        "#estimator\n",
        "model=KNeighborsClassifier()\n",
        "\n",
        "#Parameters\n",
        "params={\"n_neighbors\":range(1,31),\n",
        "        \"weights\":['uniform','distance'],\n",
        "        \"metric\":[\"euclidean\",\"manhattan\",\"minkowski\"]}\n",
        "\n",
        "#Cross validator\n",
        "#n_repeats=3/5/10, n_splits is always 10\n",
        "kfold=RepeatedStratifiedKFold(n_splits=5,n_repeats=3,random_state=1)"
      ],
      "execution_count": 17,
      "outputs": []
    },
    {
      "cell_type": "code",
      "metadata": {
        "id": "Uc0subWWdSzJ"
      },
      "source": [
        "grid_cv=GridSearchCV(estimator=model,param_grid=params,cv=kfold,scoring='accuracy',n_jobs=1)\n",
        "result=grid_cv.fit(xtrain,ytrain)"
      ],
      "execution_count": 18,
      "outputs": []
    },
    {
      "cell_type": "code",
      "metadata": {
        "colab": {
          "base_uri": "https://localhost:8080/"
        },
        "id": "joKUrAd0eWlX",
        "outputId": "0b2dcfa3-9922-412d-ec11-8546b17b0e10"
      },
      "source": [
        "print(result.best_params_)\n",
        "print(result.best_score_)"
      ],
      "execution_count": 19,
      "outputs": [
        {
          "output_type": "stream",
          "text": [
            "{'metric': 'euclidean', 'n_neighbors': 8, 'weights': 'uniform'}\n",
            "0.9638888888888889\n"
          ],
          "name": "stdout"
        }
      ]
    },
    {
      "cell_type": "code",
      "metadata": {
        "id": "wstKM5g0fRWs"
      },
      "source": [
        "model=KNeighborsClassifier(metric= 'euclidean', n_neighbors= 8, weights= 'uniform')\n",
        "model.fit(xtrain,ytrain)\n",
        "\n",
        "ypred=model.predict(xtest)"
      ],
      "execution_count": 20,
      "outputs": []
    },
    {
      "cell_type": "code",
      "metadata": {
        "colab": {
          "base_uri": "https://localhost:8080/",
          "height": 473
        },
        "id": "spVu5aXjfozj",
        "outputId": "01fc0adf-7a37-44ea-a630-cfff5b989b7c"
      },
      "source": [
        "#Check accuracy\n",
        "acc=accuracy_score(ytest,ypred)\n",
        "report=classification_report(ytest,ypred)\n",
        "cm=confusion_matrix(ytest,ypred)\n",
        "print(\"Accuracy :\",acc)\n",
        "print(\"Report\",report)\n",
        "sns.heatmap(cm,annot=True)"
      ],
      "execution_count": 21,
      "outputs": [
        {
          "output_type": "stream",
          "text": [
            "Accuracy : 1.0\n",
            "Report               precision    recall  f1-score   support\n",
            "\n",
            "           0       1.00      1.00      1.00        11\n",
            "           1       1.00      1.00      1.00        13\n",
            "           2       1.00      1.00      1.00         6\n",
            "\n",
            "    accuracy                           1.00        30\n",
            "   macro avg       1.00      1.00      1.00        30\n",
            "weighted avg       1.00      1.00      1.00        30\n",
            "\n"
          ],
          "name": "stdout"
        },
        {
          "output_type": "execute_result",
          "data": {
            "text/plain": [
              "<matplotlib.axes._subplots.AxesSubplot at 0x7fe22b64e590>"
            ]
          },
          "metadata": {
            "tags": []
          },
          "execution_count": 21
        },
        {
          "output_type": "display_data",
          "data": {
            "image/png": "[encoded data removed]",
            "text/plain": [
              "<Figure size 432x288 with 2 Axes>"
            ]
          },
          "metadata": {
            "tags": [],
            "needs_background": "light"
          }
        }
      ]
    },
    {
      "cell_type": "code",
      "metadata": {
        "id": "3BPc-sHVfsDU"
      },
      "source": [
        ""
      ],
      "execution_count": null,
      "outputs": []
    }
  ]
}